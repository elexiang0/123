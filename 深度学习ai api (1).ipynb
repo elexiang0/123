{
 "cells": [
  {
   "cell_type": "code",
   "execution_count": 6,
   "id": "3365dd7e-8224-470c-b4e0-08219c188b6a",
   "metadata": {
    "tags": []
   },
   "outputs": [
    {
     "ename": "ImportError",
     "evalue": "cannot import name 'model_validator' from 'pydantic' (C:\\Users\\25436\\anaconda3\\Lib\\site-packages\\pydantic\\__init__.cp311-win_amd64.pyd)",
     "output_type": "error",
     "traceback": [
      "\u001b[1;31m---------------------------------------------------------------------------\u001b[0m",
      "\u001b[1;31mImportError\u001b[0m                               Traceback (most recent call last)",
      "Cell \u001b[1;32mIn[6], line 2\u001b[0m\n\u001b[0;32m      1\u001b[0m \u001b[38;5;28;01mimport\u001b[39;00m \u001b[38;5;21;01mstreamlit\u001b[39;00m \u001b[38;5;28;01mas\u001b[39;00m \u001b[38;5;21;01mst\u001b[39;00m\n\u001b[1;32m----> 2\u001b[0m \u001b[38;5;28;01mfrom\u001b[39;00m \u001b[38;5;21;01mlitellm\u001b[39;00m \u001b[38;5;28;01mimport\u001b[39;00m completion\n",
      "File \u001b[1;32m~\\anaconda3\\Lib\\site-packages\\litellm\\__init__.py:17\u001b[0m\n\u001b[0;32m      9\u001b[0m \u001b[38;5;28;01mfrom\u001b[39;00m \u001b[38;5;21;01mlitellm\u001b[39;00m\u001b[38;5;21;01m.\u001b[39;00m\u001b[38;5;21;01mcaching\u001b[39;00m \u001b[38;5;28;01mimport\u001b[39;00m Cache\n\u001b[0;32m     10\u001b[0m \u001b[38;5;28;01mfrom\u001b[39;00m \u001b[38;5;21;01mlitellm\u001b[39;00m\u001b[38;5;21;01m.\u001b[39;00m\u001b[38;5;21;01m_logging\u001b[39;00m \u001b[38;5;28;01mimport\u001b[39;00m (\n\u001b[0;32m     11\u001b[0m     set_verbose,\n\u001b[0;32m     12\u001b[0m     _turn_on_debug,\n\u001b[1;32m   (...)\u001b[0m\n\u001b[0;32m     15\u001b[0m     _turn_on_json,\n\u001b[0;32m     16\u001b[0m )\n\u001b[1;32m---> 17\u001b[0m \u001b[38;5;28;01mfrom\u001b[39;00m \u001b[38;5;21;01mlitellm\u001b[39;00m\u001b[38;5;21;01m.\u001b[39;00m\u001b[38;5;21;01mproxy\u001b[39;00m\u001b[38;5;21;01m.\u001b[39;00m\u001b[38;5;21;01m_types\u001b[39;00m \u001b[38;5;28;01mimport\u001b[39;00m (\n\u001b[0;32m     18\u001b[0m     KeyManagementSystem,\n\u001b[0;32m     19\u001b[0m     KeyManagementSettings,\n\u001b[0;32m     20\u001b[0m     LiteLLM_UpperboundKeyGenerateParams,\n\u001b[0;32m     21\u001b[0m )\n\u001b[0;32m     22\u001b[0m \u001b[38;5;28;01mimport\u001b[39;00m \u001b[38;5;21;01mhttpx\u001b[39;00m\n\u001b[0;32m     23\u001b[0m \u001b[38;5;28;01mimport\u001b[39;00m \u001b[38;5;21;01mdotenv\u001b[39;00m\n",
      "File \u001b[1;32m~\\anaconda3\\Lib\\site-packages\\litellm\\proxy\\_types.py:1\u001b[0m\n\u001b[1;32m----> 1\u001b[0m \u001b[38;5;28;01mfrom\u001b[39;00m \u001b[38;5;21;01mpydantic\u001b[39;00m \u001b[38;5;28;01mimport\u001b[39;00m BaseModel, Extra, Field, model_validator, Json, ConfigDict\n\u001b[0;32m      2\u001b[0m \u001b[38;5;28;01mfrom\u001b[39;00m \u001b[38;5;21;01mdataclasses\u001b[39;00m \u001b[38;5;28;01mimport\u001b[39;00m fields\n\u001b[0;32m      3\u001b[0m \u001b[38;5;28;01mimport\u001b[39;00m \u001b[38;5;21;01menum\u001b[39;00m\n",
      "\u001b[1;31mImportError\u001b[0m: cannot import name 'model_validator' from 'pydantic' (C:\\Users\\25436\\anaconda3\\Lib\\site-packages\\pydantic\\__init__.cp311-win_amd64.pyd)"
     ]
    }
   ],
   "source": [
    "import streamlit as st\n",
    "from litellm import completion"
   ]
  },
  {
   "cell_type": "code",
   "execution_count": 7,
   "id": "9d35d737-e82d-4444-aa24-0df5b3c75f26",
   "metadata": {
    "tags": []
   },
   "outputs": [],
   "source": [
    "#set DEEPSEEK_API_KEY="
   ]
  },
  {
   "cell_type": "code",
   "execution_count": 8,
   "id": "a1400a29-db14-4d73-8ff2-eef3ed2b7ddb",
   "metadata": {
    "tags": []
   },
   "outputs": [
    {
     "name": "stderr",
     "output_type": "stream",
     "text": [
      "2024-06-12 12:06:37.823 \n",
      "  \u001b[33m\u001b[1mWarning:\u001b[0m to view this Streamlit app on a browser, run it with the following\n",
      "  command:\n",
      "\n",
      "    streamlit run C:\\Users\\25436\\anaconda3\\Lib\\site-packages\\ipykernel_launcher.py [ARGUMENTS]\n"
     ]
    }
   ],
   "source": [
    "st.yiyle = st.text_input('请输入中文网文本')"
   ]
  },
  {
   "cell_type": "code",
   "execution_count": 9,
   "id": "86c972cd-534b-4f28-89d9-a3a1a94ccb25",
   "metadata": {
    "tags": []
   },
   "outputs": [
    {
     "ename": "SyntaxError",
     "evalue": "invalid character '，' (U+FF0C) (2903798930.py, line 4)",
     "output_type": "error",
     "traceback": [
      "\u001b[1;36m  Cell \u001b[1;32mIn[9], line 4\u001b[1;36m\u001b[0m\n\u001b[1;33m    response = completion(model='deepseek/deepseek-chat'，\u001b[0m\n\u001b[1;37m                                                        ^\u001b[0m\n\u001b[1;31mSyntaxError\u001b[0m\u001b[1;31m:\u001b[0m invalid character '，' (U+FF0C)\n"
     ]
    }
   ],
   "source": [
    "if st.button('翻译为英文'):\n",
    "    if input text:\n",
    "    # 使用 LiteLLM 调用 Deepseek 模型进行翻译\n",
    "        response = completion(model='deepseek/deepseek-chat'，\n",
    "            messages=[\n",
    "                {'content\":\"你是一个优秀的英文翻译,请根据用户输入和英文读者的阅读习惯，把内容原原本本翻译成对应的英文\"\"role\":\"system'}{'content\": input_text\"role\":\"user\"}])\n",
    "        translated_text= response['choices'][0]['message']['content']\n",
    "        st.write('英文翻译结果:'，translated_text)\n",
    "    else:\n",
    "        st.write('请输入中文文本后再进行翻译')"
   ]
  },
  {
   "cell_type": "code",
   "execution_count": null,
   "id": "f0d4f8df-a09b-4c2d-8061-0838e400e97d",
   "metadata": {},
   "outputs": [],
   "source": []
  }
 ],
 "metadata": {
  "kernelspec": {
   "display_name": "Python 3 (ipykernel)",
   "language": "python",
   "name": "python3"
  },
  "language_info": {
   "codemirror_mode": {
    "name": "ipython",
    "version": 3
   },
   "file_extension": ".py",
   "mimetype": "text/x-python",
   "name": "python",
   "nbconvert_exporter": "python",
   "pygments_lexer": "ipython3",
   "version": "3.11.4"
  }
 },
 "nbformat": 4,
 "nbformat_minor": 5
}
